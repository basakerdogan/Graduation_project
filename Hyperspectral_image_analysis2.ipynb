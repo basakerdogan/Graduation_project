{
 "cells": [
  {
   "cell_type": "code",
   "execution_count": 1,
   "metadata": {},
   "outputs": [
    {
     "name": "stdout",
     "output_type": "stream",
     "text": [
      "X shape: (145, 145, 200)\n",
      "y shape: (145, 145)\n"
     ]
    }
   ],
   "source": [
    "from scipy.io import loadmat\n",
    "import pandas as pd\n",
    "\n",
    "\n",
    "def read_HSI():\n",
    "    X = loadmat('C:/Users/Basak/Desktop/indian_pines/Indian_pines_corrected.mat')['indian_pines_corrected']\n",
    "    y = loadmat('C:/Users/Basak/Desktop/indian_pines/Indian_pines_gt.mat')['indian_pines_gt']\n",
    "    print(f\"X shape: {X.shape}\\ny shape: {y.shape}\")\n",
    "    return X, y\n",
    "\n",
    "\n",
    "X, y = read_HSI()"
   ]
  },
  {
   "cell_type": "code",
   "execution_count": 3,
   "metadata": {},
   "outputs": [
    {
     "name": "stdout",
     "output_type": "stream",
     "text": [
      "keafnfa         0         1         2         3         4         5         6      \\\n",
      "0    0.074320  0.056188  0.078484  0.059407  0.062793  0.064272  0.067446   \n",
      "1    0.097047  0.092907  0.090809  0.092017  0.091880  0.106379  0.108280   \n",
      "2    0.105575  0.098047  0.094108  0.099473  0.106903  0.107827  0.113492   \n",
      "3    0.100257  0.096392  0.095747  0.097095  0.101003  0.108251  0.109956   \n",
      "4    0.112042  0.105691  0.106838  0.107144  0.111728  0.117212  0.117395   \n",
      "..        ...       ...       ...       ...       ...       ...       ...   \n",
      "195  0.024883  0.023499  0.022670  0.023145  0.024513  0.026532  0.027921   \n",
      "196  0.025047  0.023630  0.023245  0.023512  0.024856  0.026932  0.028000   \n",
      "197  0.024765  0.023172  0.022585  0.022907  0.024056  0.026457  0.027764   \n",
      "198  0.023899  0.022410  0.021925  0.022259  0.023644  0.025809  0.026847   \n",
      "199  0.023899  0.022214  0.021627  0.021740  0.023301  0.025234  0.026585   \n",
      "\n",
      "        7         8         9      ...     21015     21016     21017  \\\n",
      "0    0.063590  0.060128  0.065049  ...  0.066841  0.065139  0.073972   \n",
      "1    0.099126  0.096606  0.100927  ...  0.103652  0.098031  0.088753   \n",
      "2    0.113350  0.102926  0.104328  ...  0.105218  0.106648  0.095320   \n",
      "3    0.105794  0.104676  0.102533  ...  0.107764  0.101564  0.092827   \n",
      "4    0.115153  0.111416  0.112949  ...  0.116305  0.111732  0.099972   \n",
      "..        ...       ...       ...  ...       ...       ...       ...   \n",
      "195  0.026448  0.025003  0.025415  ...  0.026188  0.025373  0.023173   \n",
      "196  0.026597  0.025236  0.025769  ...  0.026164  0.025492  0.023285   \n",
      "197  0.025979  0.024606  0.025037  ...  0.025405  0.024920  0.022884   \n",
      "198  0.025535  0.024116  0.024328  ...  0.025038  0.024323  0.022572   \n",
      "199  0.025065  0.023580  0.024187  ...  0.025014  0.024203  0.022350   \n",
      "\n",
      "        21018     21019     21020     21021     21022     21023     21024  \n",
      "0    0.067669  0.071067  0.056776  0.060301  0.070847  0.074145  0.077261  \n",
      "1    0.088229  0.092510  0.088389  0.090783  0.086822  0.096447  0.089747  \n",
      "2    0.088079  0.092353  0.088921  0.089014  0.096215  0.096494  0.097582  \n",
      "3    0.084817  0.087600  0.089187  0.085828  0.087384  0.094637  0.091886  \n",
      "4    0.091577  0.097196  0.093134  0.093128  0.096844  0.097269  0.096443  \n",
      "..        ...       ...       ...       ...       ...       ...       ...  \n",
      "195  0.021741  0.022931  0.022413  0.022076  0.022649  0.023830  0.023297  \n",
      "196  0.021955  0.022593  0.022192  0.022342  0.022896  0.023665  0.023483  \n",
      "197  0.021397  0.022840  0.022169  0.022253  0.022537  0.023759  0.023413  \n",
      "198  0.021676  0.022728  0.022369  0.022121  0.022649  0.023618  0.023343  \n",
      "199  0.021741  0.022615  0.022347  0.022121  0.022470  0.023571  0.023250  \n",
      "\n",
      "[200 rows x 21025 columns]\n",
      "        2843      11144     13524     4108      7525      15362     5774   \\\n",
      "0    0.077370  0.069069  0.056369  0.059761  0.060212  0.060825  0.074752   \n",
      "1    0.089109  0.089293  0.089078  0.103667  0.095758  0.099496  0.088238   \n",
      "2    0.099353  0.089336  0.095354  0.110375  0.098431  0.103302  0.095346   \n",
      "3    0.093961  0.084345  0.094560  0.104691  0.098687  0.103584  0.089956   \n",
      "4    0.103617  0.091376  0.106176  0.119740  0.105173  0.110726  0.099229   \n",
      "..        ...       ...       ...       ...       ...       ...       ...   \n",
      "195  0.024654  0.021938  0.022213  0.022519  0.024271  0.024293  0.023654   \n",
      "196  0.024752  0.021981  0.022213  0.022890  0.024248  0.024175  0.023795   \n",
      "197  0.024777  0.022003  0.021684  0.022628  0.024062  0.023588  0.023607   \n",
      "198  0.024654  0.021873  0.020848  0.021997  0.023666  0.023799  0.023842   \n",
      "199  0.024850  0.021764  0.020461  0.022084  0.023550  0.023611  0.023748   \n",
      "\n",
      "        8044      9978      13079  ...     9842      9492      13230  \\\n",
      "0    0.061178  0.056252  0.075693  ...  0.075358  0.059392  0.059138   \n",
      "1    0.091176  0.080970  0.091838  ...  0.088185  0.096753  0.088300   \n",
      "2    0.099680  0.092895  0.091933  ...  0.097216  0.104362  0.102044   \n",
      "3    0.093515  0.090082  0.091434  ...  0.100092  0.098758  0.094797   \n",
      "4    0.102491  0.093566  0.097394  ...  0.103535  0.107483  0.103781   \n",
      "..        ...       ...       ...  ...       ...       ...       ...   \n",
      "195  0.024093  0.022163  0.024360  ...  0.024263  0.024490  0.023158   \n",
      "196  0.024211  0.022185  0.024265  ...  0.024239  0.024217  0.023372   \n",
      "197  0.023904  0.022120  0.024004  ...  0.023956  0.023807  0.022729   \n",
      "198  0.023432  0.021752  0.023814  ...  0.024027  0.023556  0.022043   \n",
      "199  0.023928  0.021644  0.023933  ...  0.023980  0.023101  0.021743   \n",
      "\n",
      "        6310      15308     5369      10203     13993     11534     3335   \n",
      "0    0.056968  0.071678  0.051573  0.063012  0.063490  0.070564  0.070702  \n",
      "1    0.090594  0.089677  0.085176  0.090950  0.094843  0.090404  0.092403  \n",
      "2    0.097394  0.092699  0.090173  0.097769  0.101099  0.090765  0.096860  \n",
      "3    0.094678  0.089271  0.089834  0.096792  0.100829  0.091394  0.095539  \n",
      "4    0.107635  0.093759  0.099109  0.105612  0.106791  0.099105  0.102549  \n",
      "..        ...       ...       ...       ...       ...       ...       ...  \n",
      "195  0.022369  0.022915  0.021849  0.024255  0.025318  0.020640  0.023403  \n",
      "196  0.022617  0.022780  0.021789  0.024437  0.025220  0.020849  0.023739  \n",
      "197  0.022244  0.022803  0.021369  0.023686  0.025269  0.020411  0.023403  \n",
      "198  0.021353  0.022622  0.020669  0.023164  0.024606  0.019688  0.023090  \n",
      "199  0.020917  0.022555  0.020449  0.022823  0.024435  0.019383  0.022530  \n",
      "\n",
      "[200 rows x 400 columns]\n"
     ]
    }
   ],
   "source": [
    "import sklearn\n",
    "from scipy.io import loadmat\n",
    "import pandas as pd\n",
    "from numpy import size\n",
    "from numpy.ma import zeros\n",
    "from numpy.linalg import norm\n",
    "import pandas as pd\n",
    "import numpy as np\n",
    "import sklearn.preprocessing as preprocessing\n",
    "import pandas as pd\n",
    "from numpy import array\n",
    "from numpy.linalg import norm\n",
    "\n",
    "\n",
    "M=np.zeros((21025,200))\n",
    "c=0\n",
    "for i in range(145):\n",
    "    for j in range(145):\n",
    "        M[:][c]=(X[i][j][:])\n",
    "        c = c + 1\n",
    "M=M.transpose()\n",
    "#print(\"new matris is..\",M.shape)\n",
    "#step 2 normalizasyon her sutunu kendi l2sine bölelim\n",
    "\n",
    "Mnorm=np.zeros((200,21025))\n",
    "Mnorm=M\n",
    "l2_norm= preprocessing.normalize(M, norm='l2', axis = 1)\n",
    "l2_norm=pd.DataFrame(l2_norm)\n",
    "s=0\n",
    "Mnorm=pd.DataFrame(Mnorm)\n",
    "for a in range(21025):\n",
    "    Mnorm[:][a]=Mnorm[:][a]/(norm(Mnorm[:][a],2))\n",
    "\n",
    "print(\"keafnfa\",Mnorm)\n",
    "Mnorm=Mnorm.transpose()\n",
    "#step 3 200* 21025 matriste 21025lik kısımdan 400 tane secip matris.i küçültüyoruz ve bu bizim dictionaryimiz oluyor\n",
    "\n",
    "df = pd.DataFrame(Mnorm.transpose())\n",
    "#D=pd.DataFrame(np.zeros((200,400)))\n",
    "\n",
    "D= df.sample(n=400,axis=1,replace=\"false\")\n",
    "\n",
    "print(D)"
   ]
  },
  {
   "cell_type": "code",
   "execution_count": 15,
   "metadata": {},
   "outputs": [
    {
     "ename": "TypeError",
     "evalue": "Invalid shape (145, 145, 200) for image data",
     "output_type": "error",
     "traceback": [
      "\u001b[1;31m---------------------------------------------------------------------------\u001b[0m",
      "\u001b[1;31mTypeError\u001b[0m                                 Traceback (most recent call last)",
      "\u001b[1;32m<ipython-input-15-e3efb9f091bc>\u001b[0m in \u001b[0;36m<module>\u001b[1;34m\u001b[0m\n\u001b[0;32m      2\u001b[0m \u001b[1;32mimport\u001b[0m \u001b[0mnumpy\u001b[0m \u001b[1;32mas\u001b[0m \u001b[0mnp\u001b[0m\u001b[1;33m\u001b[0m\u001b[1;33m\u001b[0m\u001b[0m\n\u001b[0;32m      3\u001b[0m \u001b[1;33m\u001b[0m\u001b[0m\n\u001b[1;32m----> 4\u001b[1;33m \u001b[0mplt\u001b[0m\u001b[1;33m.\u001b[0m\u001b[0mimshow\u001b[0m\u001b[1;33m(\u001b[0m\u001b[0mX\u001b[0m\u001b[1;33m)\u001b[0m\u001b[1;33m\u001b[0m\u001b[1;33m\u001b[0m\u001b[0m\n\u001b[0m\u001b[0;32m      5\u001b[0m \u001b[0mplt\u001b[0m\u001b[1;33m.\u001b[0m\u001b[0mshow\u001b[0m\u001b[1;33m(\u001b[0m\u001b[1;33m)\u001b[0m\u001b[1;33m\u001b[0m\u001b[1;33m\u001b[0m\u001b[0m\n",
      "\u001b[1;32m~\\anaconda3\\lib\\site-packages\\matplotlib\\pyplot.py\u001b[0m in \u001b[0;36mimshow\u001b[1;34m(X, cmap, norm, aspect, interpolation, alpha, vmin, vmax, origin, extent, filternorm, filterrad, resample, url, data, **kwargs)\u001b[0m\n\u001b[0;32m   2722\u001b[0m         \u001b[0mfilternorm\u001b[0m\u001b[1;33m=\u001b[0m\u001b[1;32mTrue\u001b[0m\u001b[1;33m,\u001b[0m \u001b[0mfilterrad\u001b[0m\u001b[1;33m=\u001b[0m\u001b[1;36m4.0\u001b[0m\u001b[1;33m,\u001b[0m \u001b[0mresample\u001b[0m\u001b[1;33m=\u001b[0m\u001b[1;32mNone\u001b[0m\u001b[1;33m,\u001b[0m \u001b[0murl\u001b[0m\u001b[1;33m=\u001b[0m\u001b[1;32mNone\u001b[0m\u001b[1;33m,\u001b[0m\u001b[1;33m\u001b[0m\u001b[1;33m\u001b[0m\u001b[0m\n\u001b[0;32m   2723\u001b[0m         data=None, **kwargs):\n\u001b[1;32m-> 2724\u001b[1;33m     __ret = gca().imshow(\n\u001b[0m\u001b[0;32m   2725\u001b[0m         \u001b[0mX\u001b[0m\u001b[1;33m,\u001b[0m \u001b[0mcmap\u001b[0m\u001b[1;33m=\u001b[0m\u001b[0mcmap\u001b[0m\u001b[1;33m,\u001b[0m \u001b[0mnorm\u001b[0m\u001b[1;33m=\u001b[0m\u001b[0mnorm\u001b[0m\u001b[1;33m,\u001b[0m \u001b[0maspect\u001b[0m\u001b[1;33m=\u001b[0m\u001b[0maspect\u001b[0m\u001b[1;33m,\u001b[0m\u001b[1;33m\u001b[0m\u001b[1;33m\u001b[0m\u001b[0m\n\u001b[0;32m   2726\u001b[0m         \u001b[0minterpolation\u001b[0m\u001b[1;33m=\u001b[0m\u001b[0minterpolation\u001b[0m\u001b[1;33m,\u001b[0m \u001b[0malpha\u001b[0m\u001b[1;33m=\u001b[0m\u001b[0malpha\u001b[0m\u001b[1;33m,\u001b[0m \u001b[0mvmin\u001b[0m\u001b[1;33m=\u001b[0m\u001b[0mvmin\u001b[0m\u001b[1;33m,\u001b[0m\u001b[1;33m\u001b[0m\u001b[1;33m\u001b[0m\u001b[0m\n",
      "\u001b[1;32m~\\anaconda3\\lib\\site-packages\\matplotlib\\__init__.py\u001b[0m in \u001b[0;36minner\u001b[1;34m(ax, data, *args, **kwargs)\u001b[0m\n\u001b[0;32m   1436\u001b[0m     \u001b[1;32mdef\u001b[0m \u001b[0minner\u001b[0m\u001b[1;33m(\u001b[0m\u001b[0max\u001b[0m\u001b[1;33m,\u001b[0m \u001b[1;33m*\u001b[0m\u001b[0margs\u001b[0m\u001b[1;33m,\u001b[0m \u001b[0mdata\u001b[0m\u001b[1;33m=\u001b[0m\u001b[1;32mNone\u001b[0m\u001b[1;33m,\u001b[0m \u001b[1;33m**\u001b[0m\u001b[0mkwargs\u001b[0m\u001b[1;33m)\u001b[0m\u001b[1;33m:\u001b[0m\u001b[1;33m\u001b[0m\u001b[1;33m\u001b[0m\u001b[0m\n\u001b[0;32m   1437\u001b[0m         \u001b[1;32mif\u001b[0m \u001b[0mdata\u001b[0m \u001b[1;32mis\u001b[0m \u001b[1;32mNone\u001b[0m\u001b[1;33m:\u001b[0m\u001b[1;33m\u001b[0m\u001b[1;33m\u001b[0m\u001b[0m\n\u001b[1;32m-> 1438\u001b[1;33m             \u001b[1;32mreturn\u001b[0m \u001b[0mfunc\u001b[0m\u001b[1;33m(\u001b[0m\u001b[0max\u001b[0m\u001b[1;33m,\u001b[0m \u001b[1;33m*\u001b[0m\u001b[0mmap\u001b[0m\u001b[1;33m(\u001b[0m\u001b[0msanitize_sequence\u001b[0m\u001b[1;33m,\u001b[0m \u001b[0margs\u001b[0m\u001b[1;33m)\u001b[0m\u001b[1;33m,\u001b[0m \u001b[1;33m**\u001b[0m\u001b[0mkwargs\u001b[0m\u001b[1;33m)\u001b[0m\u001b[1;33m\u001b[0m\u001b[1;33m\u001b[0m\u001b[0m\n\u001b[0m\u001b[0;32m   1439\u001b[0m \u001b[1;33m\u001b[0m\u001b[0m\n\u001b[0;32m   1440\u001b[0m         \u001b[0mbound\u001b[0m \u001b[1;33m=\u001b[0m \u001b[0mnew_sig\u001b[0m\u001b[1;33m.\u001b[0m\u001b[0mbind\u001b[0m\u001b[1;33m(\u001b[0m\u001b[0max\u001b[0m\u001b[1;33m,\u001b[0m \u001b[1;33m*\u001b[0m\u001b[0margs\u001b[0m\u001b[1;33m,\u001b[0m \u001b[1;33m**\u001b[0m\u001b[0mkwargs\u001b[0m\u001b[1;33m)\u001b[0m\u001b[1;33m\u001b[0m\u001b[1;33m\u001b[0m\u001b[0m\n",
      "\u001b[1;32m~\\anaconda3\\lib\\site-packages\\matplotlib\\axes\\_axes.py\u001b[0m in \u001b[0;36mimshow\u001b[1;34m(self, X, cmap, norm, aspect, interpolation, alpha, vmin, vmax, origin, extent, filternorm, filterrad, resample, url, **kwargs)\u001b[0m\n\u001b[0;32m   5521\u001b[0m                               resample=resample, **kwargs)\n\u001b[0;32m   5522\u001b[0m \u001b[1;33m\u001b[0m\u001b[0m\n\u001b[1;32m-> 5523\u001b[1;33m         \u001b[0mim\u001b[0m\u001b[1;33m.\u001b[0m\u001b[0mset_data\u001b[0m\u001b[1;33m(\u001b[0m\u001b[0mX\u001b[0m\u001b[1;33m)\u001b[0m\u001b[1;33m\u001b[0m\u001b[1;33m\u001b[0m\u001b[0m\n\u001b[0m\u001b[0;32m   5524\u001b[0m         \u001b[0mim\u001b[0m\u001b[1;33m.\u001b[0m\u001b[0mset_alpha\u001b[0m\u001b[1;33m(\u001b[0m\u001b[0malpha\u001b[0m\u001b[1;33m)\u001b[0m\u001b[1;33m\u001b[0m\u001b[1;33m\u001b[0m\u001b[0m\n\u001b[0;32m   5525\u001b[0m         \u001b[1;32mif\u001b[0m \u001b[0mim\u001b[0m\u001b[1;33m.\u001b[0m\u001b[0mget_clip_path\u001b[0m\u001b[1;33m(\u001b[0m\u001b[1;33m)\u001b[0m \u001b[1;32mis\u001b[0m \u001b[1;32mNone\u001b[0m\u001b[1;33m:\u001b[0m\u001b[1;33m\u001b[0m\u001b[1;33m\u001b[0m\u001b[0m\n",
      "\u001b[1;32m~\\anaconda3\\lib\\site-packages\\matplotlib\\image.py\u001b[0m in \u001b[0;36mset_data\u001b[1;34m(self, A)\u001b[0m\n\u001b[0;32m    707\u001b[0m         if not (self._A.ndim == 2\n\u001b[0;32m    708\u001b[0m                 or self._A.ndim == 3 and self._A.shape[-1] in [3, 4]):\n\u001b[1;32m--> 709\u001b[1;33m             raise TypeError(\"Invalid shape {} for image data\"\n\u001b[0m\u001b[0;32m    710\u001b[0m                             .format(self._A.shape))\n\u001b[0;32m    711\u001b[0m \u001b[1;33m\u001b[0m\u001b[0m\n",
      "\u001b[1;31mTypeError\u001b[0m: Invalid shape (145, 145, 200) for image data"
     ]
    },
    {
     "data": {
      "image/png": "[encoded data removed]",
      "text/plain": [
       "<Figure size 432x288 with 1 Axes>"
      ]
     },
     "metadata": {
      "needs_background": "light"
     },
     "output_type": "display_data"
    }
   ],
   "source": [
    "import matplotlib.pyplot as plt \n",
    "import numpy as np \n",
    " \n",
    "plt.imshow(X)\n",
    "plt.show()"
   ]
  },
  {
   "cell_type": "code",
   "execution_count": null,
   "metadata": {},
   "outputs": [],
   "source": []
  }
 ],
 "metadata": {
  "kernelspec": {
   "display_name": "Python 3",
   "language": "python",
   "name": "python3"
  },
  "language_info": {
   "codemirror_mode": {
    "name": "ipython",
    "version": 3
   },
   "file_extension": ".py",
   "mimetype": "text/x-python",
   "name": "python",
   "nbconvert_exporter": "python",
   "pygments_lexer": "ipython3",
   "version": "3.8.5"
  }
 },
 "nbformat": 4,
 "nbformat_minor": 4
}
